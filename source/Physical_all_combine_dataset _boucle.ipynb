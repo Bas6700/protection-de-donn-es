{
 "cells": [
  {
   "cell_type": "code",
   "execution_count": null,
   "metadata": {},
   "outputs": [],
   "source": [
    "import pandas\n",
    "import os\n",
    "import numpy\n",
    "import plotly.express\n",
    "from sklearn.tree import DecisionTreeClassifier\n",
    "from sklearn.model_selection import train_test_split\n",
    "from sklearn.metrics import accuracy_score, classification_report\n",
    "from sklearn.metrics import confusion_matrix, precision_score, recall_score, accuracy_score, balanced_accuracy_score, matthews_corrcoef, average_precision_score\n",
    "from sklearn.tree import plot_tree\n",
    "from sklearn.decomposition import PCA\n",
    "from sklearn.ensemble import IsolationForest\n",
    "import xgboost\n",
    "from sklearn.neighbors import KNeighborsClassifier\n",
    "from sklearn.svm import SVC"
   ]
  },
  {
   "cell_type": "code",
   "execution_count": null,
   "metadata": {},
   "outputs": [],
   "source": [
    "import glob\n",
    "\n",
    "df = []\n",
    "\n",
    "csv_files = glob.glob('data/Physical dataset/*.csv')\n",
    "print(csv_files)\n",
    "for csv_file in csv_files:\n",
    "    delimiter = '\\t'\n",
    "    encoding=\"utf-16le\"\n",
    "    if csv_file.endswith(\"4.csv\"):\n",
    "        delimiter = ','\n",
    "        encoding = \"utf-8\"\n",
    "    df_temp = pandas.read_csv(csv_file, encoding=encoding, delimiter=delimiter)\n",
    "    df.append(df_temp)\n",
    "\n",
    "df  = pandas.concat(df, ignore_index=True)\n"
   ]
  },
  {
   "cell_type": "code",
   "execution_count": null,
   "metadata": {},
   "outputs": [],
   "source": [
    "import pandas as pd\n",
    "import numpy as np\n",
    "\n",
    "# Remplacer les valeurs non nulles dans Label_n par celles de Lable_n\n",
    "df['Label_n'] = df['Label_n'].combine_first(df['Lable_n'])\n",
    "\n",
    "# Supprimer la colonne Lable_n\n",
    "df.drop('Lable_n', axis=1, inplace=True)\n",
    "\n",
    "# Afficher le DataFrame résultant\n",
    "nan_ratios = df.isna().mean()   \n",
    "print(nan_ratios)\n"
   ]
  },
  {
   "cell_type": "code",
   "execution_count": null,
   "metadata": {},
   "outputs": [],
   "source": [
    "nb_attaque= df['Label'].value_counts()\n",
    "print(nb_attaque)\n",
    "ratio = (nb_attaque.iloc[1] + nb_attaque.iloc[2]+ nb_attaque.iloc[3] + nb_attaque.iloc[5])/(nb_attaque.iloc[0]+nb_attaque.iloc[1]+nb_attaque.iloc[2]+ nb_attaque.iloc[3] + nb_attaque.iloc[4] +nb_attaque.iloc[5])\n",
    "print(ratio*100)"
   ]
  },
  {
   "cell_type": "markdown",
   "metadata": {},
   "source": [
    "Ici on test sur des partie du dataframe pour voir le nombre minimal de data à prendre pour avoir un bon F1 score"
   ]
  },
  {
   "cell_type": "code",
   "execution_count": null,
   "metadata": {},
   "outputs": [],
   "source": [
    "# Create reduced datasets\n",
    "train_sizes = [100, 500,1000,5000,10000]\n",
    "\n",
    "# Initialize lists to store results\n",
    "\n",
    "recall_scores = []\n",
    "accuracy_scores = []\n",
    "\n",
    "clf = DecisionTreeClassifier()\n",
    "\n",
    "\n",
    "for size in train_sizes:\n",
    "\n",
    "    fraudulent_entries = df[df['Label_n'] == 1].sample(n=int(size * ratio) +1)\n",
    "    non_fraudulent_entries = df[df['Label_n'] == 0].sample(n=int(size * (1-ratio)))\n",
    "\n",
    "    df_reduced = pandas.concat([fraudulent_entries, non_fraudulent_entries])\n",
    "\n",
    "    Y_red=df_reduced['Label_n'].copy()\n",
    "    X_red=df_reduced.drop(['Label_n', 'Time','Label'], axis=1)\n",
    "    X_train, X_test, Y_train, Y_test = train_test_split(X_red, Y_red, test_size=0.2, random_state=42)\n",
    "\n",
    "    clf = DecisionTreeClassifier()\n",
    "    clf.fit(X_train, Y_train)\n",
    "    Y_pred = clf.predict(X_test)\n",
    "   \n",
    "    recall_scores.append(recall_score(Y_test, Y_pred))\n",
    "    accuracy_scores.append(accuracy_score(Y_test, Y_pred))\n",
    "   "
   ]
  },
  {
   "cell_type": "code",
   "execution_count": null,
   "metadata": {},
   "outputs": [],
   "source": [
    "# Plot the results\n",
    "import matplotlib.pyplot as plt\n",
    "\n",
    "plt.figure(figsize=(10, 6))\n",
    "\n",
    "plt.plot(train_sizes, recall_scores, label='Recall')\n",
    "plt.plot(train_sizes, accuracy_scores, label='Accuracy')\n",
    "\n",
    "plt.title('Decision Tree for Different Training Set Sizes')\n",
    "plt.xlabel('Training Set Size')\n",
    "plt.ylabel('Score')\n",
    "plt.legend()\n",
    "plt.show()"
   ]
  },
  {
   "cell_type": "code",
   "execution_count": null,
   "metadata": {},
   "outputs": [],
   "source": [
    "train_sizes = [100, 500,1000,5000,10000]\n",
    "\n",
    "\n",
    "recall_scores = []\n",
    "accuracy_scores = []\n",
    "\n",
    "clf = xgboost.XGBClassifier()\n",
    "\n",
    "\n",
    "for size in train_sizes:\n",
    "\n",
    "    fraudulent_entries = df[df['Label_n'] == 1].sample(n=int(size * ratio) +1)\n",
    "    non_fraudulent_entries = df[df['Label_n'] == 0].sample(n=int(size * (1-ratio)))\n",
    "\n",
    "    df_reduced = pandas.concat([fraudulent_entries, non_fraudulent_entries])\n",
    "\n",
    "    Y_red=df_reduced['Label_n'].copy()\n",
    "    X_red=df_reduced.drop(['Label_n', 'Time','Label'], axis=1)\n",
    "    X_train, X_test, Y_train, Y_test = train_test_split(X_red, Y_red, test_size=0.2, random_state=42)\n",
    "\n",
    "    clf = DecisionTreeClassifier()\n",
    "    clf.fit(X_train, Y_train)\n",
    "    Y_pred = clf.predict(X_test)\n",
    "   \n",
    "    recall_scores.append(recall_score(Y_test, Y_pred))\n",
    "    accuracy_scores.append(accuracy_score(Y_test, Y_pred))\n",
    "   "
   ]
  },
  {
   "cell_type": "code",
   "execution_count": null,
   "metadata": {},
   "outputs": [],
   "source": [
    "# Plot the results\n",
    "import matplotlib.pyplot as plt\n",
    "\n",
    "plt.figure(figsize=(10, 6))\n",
    "\n",
    "plt.plot(train_sizes, recall_scores, label='Recall')\n",
    "plt.plot(train_sizes, accuracy_scores, label='Accuracy')\n",
    "\n",
    "plt.title('Xgboost for Different Training Set Sizes')\n",
    "plt.xlabel('Training Set Size')\n",
    "plt.ylabel('Score')\n",
    "plt.legend()\n",
    "plt.show()"
   ]
  },
  {
   "cell_type": "code",
   "execution_count": null,
   "metadata": {},
   "outputs": [],
   "source": [
    "train_sizes = [100, 500,1000,5000,10000]\n",
    "\n",
    "\n",
    "recall_scores = []\n",
    "accuracy_scores = []\n",
    "\n",
    "clf = SVC(kernel='rbf') \n",
    "\n",
    "\n",
    "\n",
    "for size in train_sizes:\n",
    "    fraudulent_entries = df[df['Label_n'] == 1].sample(n=int(size * ratio) + 1)\n",
    "    non_fraudulent_entries = df[df['Label_n'] == 0].sample(n=int(size * (1 - ratio)))\n",
    "\n",
    "    df_reduced = pd.concat([fraudulent_entries, non_fraudulent_entries])\n",
    "\n",
    "    Y_red = df_reduced['Label_n'].copy()\n",
    "    X_red = df_reduced.drop(['Label_n', 'Time', 'Label'], axis=1)\n",
    "\n",
    "    X_train, X_test, Y_train, Y_test = train_test_split(X_red, Y_red, test_size=0.2, random_state=42)\n",
    "\n",
    "    clf.fit(X_train, Y_train)\n",
    "    Y_pred = clf.predict(X_test)\n",
    "\n",
    "    recall_scores.append(recall_score(Y_test, Y_pred))\n",
    "    accuracy_scores.append(accuracy_score(Y_test, Y_pred))\n",
    "   "
   ]
  },
  {
   "cell_type": "code",
   "execution_count": null,
   "metadata": {},
   "outputs": [],
   "source": [
    "# Plot the results\n",
    "import matplotlib.pyplot as plt\n",
    "\n",
    "plt.figure(figsize=(10, 6))\n",
    "\n",
    "plt.plot(train_sizes, recall_scores, label='Recall')\n",
    "plt.plot(train_sizes, accuracy_scores, label='Accuracy')\n",
    "\n",
    "plt.title('SVM for Different Training Set Sizes')\n",
    "plt.xlabel('Training Set Size')\n",
    "plt.ylabel('Score')\n",
    "plt.legend()\n",
    "plt.show()"
   ]
  },
  {
   "cell_type": "markdown",
   "metadata": {},
   "source": [
    "Ici on entraine sur tous le dataframe"
   ]
  },
  {
   "cell_type": "code",
   "execution_count": null,
   "metadata": {},
   "outputs": [],
   "source": [
    "train_sizes = [100, 500,1000,5000,10000]\n",
    "\n",
    "recall_scores = []\n",
    "accuracy_scores = []\n",
    "\n",
    "knn = KNeighborsClassifier(n_neighbors=1)\n",
    "\n",
    "for size in train_sizes:\n",
    "\n",
    "    fraudulent_entries = df[df['Label_n'] == 1].sample(n=int(size * ratio) +1)\n",
    "    non_fraudulent_entries = df[df['Label_n'] == 0].sample(n=int(size * (1-ratio)))\n",
    "\n",
    "    df_reduced = pandas.concat([fraudulent_entries, non_fraudulent_entries])\n",
    "\n",
    "    Y_red=df_reduced['Label_n'].copy()\n",
    "    X_red=df_reduced.drop(['Label_n', 'Time','Label'], axis=1)\n",
    "    X_train, X_test, Y_train, Y_test = train_test_split(X_red, Y_red, test_size=0.2, random_state=42)\n",
    "\n",
    "    knn.fit(X_train, Y_train)\n",
    "    Y_pred = knn.predict(X_test)\n",
    "   \n",
    "    recall_scores.append(recall_score(Y_test, Y_pred))\n",
    "    accuracy_scores.append(accuracy_score(Y_test, Y_pred))\n",
    "   "
   ]
  },
  {
   "cell_type": "code",
   "execution_count": null,
   "metadata": {},
   "outputs": [],
   "source": [
    "import matplotlib.pyplot as plt\n",
    "\n",
    "plt.figure(figsize=(10, 6))\n",
    "\n",
    "plt.plot(train_sizes, recall_scores, label='Recall')\n",
    "plt.plot(train_sizes, accuracy_scores, label='Accuracy')\n",
    "\n",
    "plt.title('KNN for Different Training Set Sizes')\n",
    "plt.xlabel('Training Set Size')\n",
    "plt.ylabel('Score')\n",
    "plt.legend()\n",
    "plt.show()"
   ]
  }
 ],
 "metadata": {
  "kernelspec": {
   "display_name": "ff",
   "language": "python",
   "name": "python3"
  },
  "language_info": {
   "codemirror_mode": {
    "name": "ipython",
    "version": 3
   },
   "file_extension": ".py",
   "mimetype": "text/x-python",
   "name": "python",
   "nbconvert_exporter": "python",
   "pygments_lexer": "ipython3",
   "version": "3.11.5"
  }
 },
 "nbformat": 4,
 "nbformat_minor": 2
}
